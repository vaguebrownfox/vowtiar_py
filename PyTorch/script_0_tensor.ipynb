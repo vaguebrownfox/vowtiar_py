{
 "cells": [
  {
   "cell_type": "code",
   "execution_count": 1,
   "metadata": {},
   "outputs": [],
   "source": [
    "import torch\n",
    "import numpy as np"
   ]
  },
  {
   "cell_type": "markdown",
   "metadata": {},
   "source": [
    "## Initialize tensor"
   ]
  },
  {
   "cell_type": "code",
   "execution_count": 3,
   "metadata": {},
   "outputs": [
    {
     "data": {
      "text/plain": [
       "tensor([[1, 2],\n",
       "        [3, 4]])"
      ]
     },
     "execution_count": 3,
     "metadata": {},
     "output_type": "execute_result"
    }
   ],
   "source": [
    "data = [[1, 2], [3, 4]]\n",
    "tensor = torch.tensor(data)\n",
    "tensor\n",
    "\n",
    "np_arr = np.array(data)\n",
    "tensor_fnp = torch.from_numpy(np_arr)\n",
    "tensor_fnp"
   ]
  },
  {
   "cell_type": "code",
   "execution_count": 6,
   "metadata": {},
   "outputs": [
    {
     "data": {
      "text/plain": [
       "tensor([[0.2032, 0.3767],\n",
       "        [0.4200, 0.5779]])"
      ]
     },
     "execution_count": 6,
     "metadata": {},
     "output_type": "execute_result"
    }
   ],
   "source": [
    "x_ones = torch.ones_like(tensor) # Retain shape and datatype\n",
    "x_ones\n",
    "\n",
    "x_rand = torch.rand_like(tensor, dtype=torch.float)\n",
    "x_rand"
   ]
  },
  {
   "cell_type": "markdown",
   "metadata": {},
   "source": [
    "### Shape and Attr"
   ]
  },
  {
   "cell_type": "code",
   "execution_count": 15,
   "metadata": {},
   "outputs": [
    {
     "data": {
      "text/plain": [
       "tensor([[0., 0., 0.],\n",
       "        [0., 0., 0.]])"
      ]
     },
     "execution_count": 15,
     "metadata": {},
     "output_type": "execute_result"
    }
   ],
   "source": [
    "shape = (2, 3,)\n",
    "rand_sor = torch.rand(shape)\n",
    "rand_sor\n",
    "ones_sor = torch.ones(shape)\n",
    "ones_sor\n",
    "zeros_sor = torch.zeros(shape)\n",
    "zeros_sor"
   ]
  },
  {
   "cell_type": "code",
   "execution_count": 20,
   "metadata": {},
   "outputs": [
    {
     "name": "stdout",
     "output_type": "stream",
     "text": [
      "Shape of zero tensor torch.Size([2, 3]) \n",
      "Dtype of ones tensor torch.float32 \n",
      "Storage device of rand tensor cpu \n"
     ]
    }
   ],
   "source": [
    "print(f\"Shape of zero tensor {zeros_sor.shape} \")\n",
    "print(f\"Dtype of ones tensor {ones_sor.dtype} \")\n",
    "print(f\"Storage device of rand tensor {rand_sor.device} \")\n"
   ]
  },
  {
   "cell_type": "code",
   "execution_count": 21,
   "metadata": {},
   "outputs": [],
   "source": [
    "# Move tensor to GPU if available\n",
    "if torch.cuda.is_available():\n",
    "    tensor = tensor.to('cuda')"
   ]
  },
  {
   "cell_type": "code",
   "execution_count": 23,
   "metadata": {},
   "outputs": [
    {
     "name": "stdout",
     "output_type": "stream",
     "text": [
      "Storage device of tensor cuda:0 \n"
     ]
    },
    {
     "data": {
      "text/plain": [
       "tensor([[1, 2],\n",
       "        [3, 4]], device='cuda:0')"
      ]
     },
     "execution_count": 23,
     "metadata": {},
     "output_type": "execute_result"
    }
   ],
   "source": [
    "print(f\"Storage device of tensor {tensor.device} \")\n",
    "tensor"
   ]
  },
  {
   "cell_type": "markdown",
   "metadata": {},
   "source": [
    "### Tensor operations"
   ]
  },
  {
   "cell_type": "code",
   "execution_count": 31,
   "metadata": {},
   "outputs": [
    {
     "name": "stdout",
     "output_type": "stream",
     "text": [
      "First row: tensor([0.8409, 0.8776, 0.1986, 0.2127])\n",
      "First column: tensor([0.8409, 0.2412, 0.4565, 0.8573])\n",
      "Last column: tensor([0.2127, 0.5467, 0.6837, 0.7997])\n"
     ]
    },
    {
     "data": {
      "text/plain": [
       "tensor([[0.8409, 0.0000, 0.1986, 0.2127],\n",
       "        [0.2412, 0.0000, 0.5599, 0.5467],\n",
       "        [0.4565, 0.0000, 0.2498, 0.6837],\n",
       "        [0.8573, 0.0000, 0.9526, 0.7997]])"
      ]
     },
     "execution_count": 31,
     "metadata": {},
     "output_type": "execute_result"
    }
   ],
   "source": [
    "tensor = torch.rand(4, 4)\n",
    "tensor\n",
    "\n",
    "print(f\"First row: {tensor[0]}\")\n",
    "print(f\"First column: {tensor[:, 0]}\")\n",
    "print(f\"Last column: {tensor[..., -1]}\")\n",
    "\n",
    "# Reassign\n",
    "tensor[:, 1] = 0\n",
    "tensor\n"
   ]
  },
  {
   "cell_type": "code",
   "execution_count": 43,
   "metadata": {},
   "outputs": [
    {
     "data": {
      "text/plain": [
       "tensor([[0.8409, 0.0000, 0.1986, 0.2127],\n",
       "        [0.8409, 0.0000, 0.1986, 0.2127],\n",
       "        [0.8409, 0.0000, 0.1986, 0.2127]])"
      ]
     },
     "execution_count": 43,
     "metadata": {},
     "output_type": "execute_result"
    }
   ],
   "source": [
    "# Concat\n",
    "tensor_cat = torch.cat([tensor, tensor, tensor], dim=1)\n",
    "tensor_stac = torch.stack([tensor, tensor, tensor], dim=1)\n",
    "tensor_cat[0]\n",
    "tensor_stac[0]"
   ]
  },
  {
   "cell_type": "markdown",
   "metadata": {},
   "source": [
    "#### Arithmatic"
   ]
  },
  {
   "cell_type": "code",
   "execution_count": 50,
   "metadata": {},
   "outputs": [
    {
     "data": {
      "text/plain": [
       "tensor([[0.7917, 0.4303, 0.5789, 1.0801],\n",
       "        [0.4303, 0.6706, 0.6237, 1.1773],\n",
       "        [0.5789, 0.6237, 0.7382, 1.1761],\n",
       "        [1.0801, 1.1773, 1.1761, 2.2819]])"
      ]
     },
     "execution_count": 50,
     "metadata": {},
     "output_type": "execute_result"
    }
   ],
   "source": [
    "# Matrix multiplication\n",
    "\n",
    "y = tensor @ tensor.T\n",
    "y\n",
    "y = tensor.matmul(tensor.T)\n",
    "y\n",
    "\n",
    "y_r = torch.rand_like(y)\n",
    "torch.matmul(tensor, tensor.T, out=y_r)\n",
    "y_r"
   ]
  },
  {
   "cell_type": "code",
   "execution_count": 57,
   "metadata": {},
   "outputs": [
    {
     "data": {
      "text/plain": [
       "tensor([[0.7071, 0.0000, 0.0394, 0.0452],\n",
       "        [0.0582, 0.0000, 0.3135, 0.2989],\n",
       "        [0.2084, 0.0000, 0.0624, 0.4674],\n",
       "        [0.7350, 0.0000, 0.9075, 0.6394]])"
      ]
     },
     "execution_count": 57,
     "metadata": {},
     "output_type": "execute_result"
    }
   ],
   "source": [
    "# Element-wise multiplication\n",
    "z = tensor.T * tensor.T\n",
    "z = tensor.mul(tensor)\n",
    "z"
   ]
  },
  {
   "cell_type": "code",
   "execution_count": 60,
   "metadata": {},
   "outputs": [
    {
     "data": {
      "text/plain": [
       "6.599551200866699"
      ]
     },
     "execution_count": 60,
     "metadata": {},
     "output_type": "execute_result"
    }
   ],
   "source": [
    "# Aggregate (sum)\n",
    "agg = tensor.sum()\n",
    "agg\n",
    "agg_itm = agg.item() # only one element tensors can be converted to Python scalars\n",
    "agg_itm"
   ]
  },
  {
   "cell_type": "code",
   "execution_count": 68,
   "metadata": {},
   "outputs": [
    {
     "name": "stdout",
     "output_type": "stream",
     "text": [
      "tensor([[1., 1., 0., 1.],\n",
      "        [1., 1., 0., 1.],\n",
      "        [1., 1., 0., 1.]]) \n",
      "\n"
     ]
    },
    {
     "data": {
      "text/plain": [
       "tensor([[6., 6., 5., 6.],\n",
       "        [6., 6., 5., 6.],\n",
       "        [6., 6., 5., 6.]])"
      ]
     },
     "execution_count": 68,
     "metadata": {},
     "output_type": "execute_result"
    }
   ],
   "source": [
    "# In place operation\n",
    "## Operations that store the result into the operand are called in-place.\n",
    "\n",
    "ones_sor = torch.ones(3, 4)\n",
    "ones_sor[:, 2] = 0\n",
    "print(ones_sor, \"\\n\")\n",
    "ones_sor.add_(5)\n",
    "ones_sor = ones_sor.add(5) # same as\n",
    "ones_sor"
   ]
  },
  {
   "cell_type": "markdown",
   "metadata": {},
   "source": [
    "## Numpy Bridge"
   ]
  },
  {
   "cell_type": "code",
   "execution_count": 73,
   "metadata": {},
   "outputs": [
    {
     "data": {
      "text/plain": [
       "array([[0., 0., 0., 0.],\n",
       "       [0., 0., 0., 0.],\n",
       "       [0., 0., 0., 0.],\n",
       "       [0., 0., 0., 0.]], dtype=float32)"
      ]
     },
     "execution_count": 73,
     "metadata": {},
     "output_type": "execute_result"
    }
   ],
   "source": [
    "n = tensor.numpy()\n",
    "n\n",
    "tensor.mul_(0)\n",
    "n # operation to tensor reflects numpy array n\n"
   ]
  },
  {
   "cell_type": "code",
   "execution_count": 79,
   "metadata": {},
   "outputs": [
    {
     "data": {
      "text/plain": [
       "tensor([[2., 2., 2., 2., 2., 2.],\n",
       "        [2., 2., 2., 2., 2., 2.],\n",
       "        [2., 2., 2., 2., 2., 2.],\n",
       "        [2., 2., 2., 2., 2., 2.],\n",
       "        [2., 2., 2., 2., 2., 2.]], dtype=torch.float64)"
      ]
     },
     "execution_count": 79,
     "metadata": {},
     "output_type": "execute_result"
    }
   ],
   "source": [
    "np_arr = np.ones((5, 6,))\n",
    "tensor = torch.from_numpy(np_arr)\n",
    "\n",
    "np.add(np_arr, 1, out=np_arr)\n",
    "tensor # operation to np array reflects tensor\n"
   ]
  }
 ],
 "metadata": {
  "interpreter": {
   "hash": "408482f028cbdcad82ab472bf48df52a9213814c5f41c7acae73743007cbdc6b"
  },
  "kernelspec": {
   "display_name": "Python 3.9.7 64-bit ('pytorch': conda)",
   "language": "python",
   "name": "python3"
  },
  "language_info": {
   "codemirror_mode": {
    "name": "ipython",
    "version": 3
   },
   "file_extension": ".py",
   "mimetype": "text/x-python",
   "name": "python",
   "nbconvert_exporter": "python",
   "pygments_lexer": "ipython3",
   "version": "3.9.9"
  },
  "orig_nbformat": 4
 },
 "nbformat": 4,
 "nbformat_minor": 2
}
