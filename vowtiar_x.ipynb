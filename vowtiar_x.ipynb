{
  "nbformat": 4,
  "nbformat_minor": 0,
  "metadata": {
    "colab": {
      "name": "vowtiar_x.ipynb",
      "provenance": [],
      "collapsed_sections": []
    },
    "kernelspec": {
      "name": "python3",
      "display_name": "Python 3"
    },
    "language_info": {
      "name": "python"
    }
  },
  "cells": [
    {
      "cell_type": "code",
      "metadata": {
        "colab": {
          "base_uri": "https://localhost:8080/"
        },
        "id": "FCfXg8-C7KkZ",
        "outputId": "a6b3b704-9eef-4189-e7ba-78f053f6dea2"
      },
      "source": [
        "from google.colab import drive\n",
        "drive.mount('/content/drive')"
      ],
      "execution_count": null,
      "outputs": [
        {
          "output_type": "stream",
          "name": "stdout",
          "text": [
            "Mounted at /content/drive\n"
          ]
        }
      ]
    },
    {
      "cell_type": "code",
      "metadata": {
        "id": "jA7Z7YlJ7e6S"
      },
      "source": [
        "import os\n",
        "import re\n",
        "import shutil"
      ],
      "execution_count": null,
      "outputs": []
    },
    {
      "cell_type": "code",
      "metadata": {
        "id": "KP_pgTNI8oYd"
      },
      "source": [
        "def mkdir(fpath) :\n",
        "    if (not os.path.exists(fpath)) :\n",
        "        os.mkdir(fpath)\n",
        "\n",
        "def get_subjects(fpath) :\n",
        "    subjects = {}\n",
        "\n",
        "    files = os.listdir(fpath)\n",
        "\n",
        "    for f in files :\n",
        "        print(f)"
      ],
      "execution_count": null,
      "outputs": []
    },
    {
      "cell_type": "code",
      "metadata": {
        "id": "5duuXupG7kbY"
      },
      "source": [
        "# Vowtiar data\n",
        "\n",
        "root_fpath = \"/content/drive/MyDrive/Asquire_data/Vowel_Triangle_Data/Formants\"\n",
        "\n",
        "subwise_fpath = \"/content/drive/MyDrive/Asquire_data/Vowel_Triangle_Data/Subwise_formants\"\n",
        "\n",
        "boundary_anotes = os.path.join(root_fpath, \"Boundary\")\n"
      ],
      "execution_count": null,
      "outputs": []
    },
    {
      "cell_type": "markdown",
      "metadata": {
        "id": "_LszRhSO7mej"
      },
      "source": [
        ""
      ]
    },
    {
      "cell_type": "code",
      "metadata": {
        "id": "iEfdoTI4-c7e"
      },
      "source": [
        "# tests : rename files\n",
        "\n",
        "for path, subdirs, files in os.walk(root_fpath):\n",
        "    for name in files:\n",
        "        fpath = os.path.join(path, name)\n",
        "        if (\"Boundaries_header\" in path) :\n",
        "            nw_name = name[:-4] + \"_bounds_\" + name[-4:]\n",
        "        elif (\"Formant_mean\" in path) :\n",
        "            nw_name = name[:-4] + \"_formant_\" + name[-4:]\n",
        "        else :\n",
        "            print(\"wtf?\")\n",
        "        nw_fpath = os.path.join(path, nw_name)\n",
        "\n",
        "        shutil.move(fpath, nw_fpath)\n",
        "\n",
        "        print(nw_fpath)"
      ],
      "execution_count": null,
      "outputs": []
    },
    {
      "cell_type": "code",
      "metadata": {
        "colab": {
          "base_uri": "https://localhost:8080/",
          "height": 252
        },
        "id": "BBOr697K7_Og",
        "outputId": "98254e6d-5a68-462a-862f-4ea1e411aa6c"
      },
      "source": [
        "# tests : rename files\n",
        "\n",
        "for path, subdirs, files in os.walk(root_fpath):\n",
        "    for name in files:\n",
        "        fpath = os.path.join(path, name)\n",
        "        if (\"anotes\" in path) :\n",
        "            nw_name = name[:-4] + \"_bounds_\" + name[-4:]\n",
        "        elif (\"formants\" in path) :\n",
        "            nw_name = name[:-4] + \"_formant_\" + name[-4:]\n",
        "        else :\n",
        "            print(\"wtf?\")\n",
        "        nw_fpath = os.path.join(path, nw_name)\n",
        "\n",
        "        shutil.move(fpath, nw_fpath)\n",
        "\n",
        "        print(nw_fpath)"
      ],
      "execution_count": null,
      "outputs": [
        {
          "output_type": "stream",
          "name": "stdout",
          "text": [
            "wtf?\n"
          ]
        },
        {
          "output_type": "error",
          "ename": "NameError",
          "evalue": "ignored",
          "traceback": [
            "\u001b[0;31m---------------------------------------------------------------------------\u001b[0m",
            "\u001b[0;31mNameError\u001b[0m                                 Traceback (most recent call last)",
            "\u001b[0;32m<ipython-input-6-90fac3f0f5f7>\u001b[0m in \u001b[0;36m<module>\u001b[0;34m()\u001b[0m\n\u001b[1;32m     10\u001b[0m         \u001b[0;32melse\u001b[0m \u001b[0;34m:\u001b[0m\u001b[0;34m\u001b[0m\u001b[0;34m\u001b[0m\u001b[0m\n\u001b[1;32m     11\u001b[0m             \u001b[0mprint\u001b[0m\u001b[0;34m(\u001b[0m\u001b[0;34m\"wtf?\"\u001b[0m\u001b[0;34m)\u001b[0m\u001b[0;34m\u001b[0m\u001b[0;34m\u001b[0m\u001b[0m\n\u001b[0;32m---> 12\u001b[0;31m         \u001b[0mnw_fpath\u001b[0m \u001b[0;34m=\u001b[0m \u001b[0mos\u001b[0m\u001b[0;34m.\u001b[0m\u001b[0mpath\u001b[0m\u001b[0;34m.\u001b[0m\u001b[0mjoin\u001b[0m\u001b[0;34m(\u001b[0m\u001b[0mpath\u001b[0m\u001b[0;34m,\u001b[0m \u001b[0mnw_name\u001b[0m\u001b[0;34m)\u001b[0m\u001b[0;34m\u001b[0m\u001b[0;34m\u001b[0m\u001b[0m\n\u001b[0m\u001b[1;32m     13\u001b[0m \u001b[0;34m\u001b[0m\u001b[0m\n\u001b[1;32m     14\u001b[0m         \u001b[0mshutil\u001b[0m\u001b[0;34m.\u001b[0m\u001b[0mmove\u001b[0m\u001b[0;34m(\u001b[0m\u001b[0mfpath\u001b[0m\u001b[0;34m,\u001b[0m \u001b[0mnw_fpath\u001b[0m\u001b[0;34m)\u001b[0m\u001b[0;34m\u001b[0m\u001b[0;34m\u001b[0m\u001b[0m\n",
            "\u001b[0;31mNameError\u001b[0m: name 'nw_name' is not defined"
          ]
        }
      ]
    },
    {
      "cell_type": "code",
      "metadata": {
        "colab": {
          "base_uri": "https://localhost:8080/"
        },
        "id": "MfpdM69qLDOM",
        "outputId": "695fc855-52d6-412e-a9b1-920cfc3f74bc"
      },
      "source": [
        "# tests : subjects and their files\n",
        "root_fpath = \"/content/drive/MyDrive/Asquire_data/Vowel_Triangle_Data/Formants\"\n",
        "subwise_fpath = \"/content/drive/MyDrive/Asquire_data/Vowel_Triangle_Data/Subwise_formants\"\n",
        "mkdir(subwise_fpath)\n",
        "\n",
        "subjects = {}\n",
        "for path, subdirs, files in os.walk(root_fpath):\n",
        "    for name in files:\n",
        "        fpath = os.path.join(path, name)\n",
        "        \n",
        "        sub_id = name.split(\"_\")[0]\n",
        "\n",
        "        if sub_id in subjects.keys() :\n",
        "            subjects[sub_id].append(fpath) \n",
        "        else :\n",
        "            subjects[sub_id] = [fpath]   \n",
        "        \n",
        "\n",
        "print(subjects.keys())"
      ],
      "execution_count": null,
      "outputs": [
        {
          "output_type": "stream",
          "name": "stdout",
          "text": [
            "dict_keys(['4012', '4016', '4017', '4027', '4035', '4053', '4060', '4063', '4062', '4069', '4074', '4078', '4079', '4082', '4101', '4104', '4105', '4112', '4126', '4136', '4138', '4139', '4140', '4147', '4144', '4171', '4157', '4172', '4184', '4185', '4186', '4188', '4189', '4194', '4197', '4204', '4213', '4220', '4224', '4234', '4235', '4246'])\n"
          ]
        }
      ]
    },
    {
      "cell_type": "code",
      "metadata": {
        "id": "-2rzMjqoHUvf"
      },
      "source": [
        "# subject wise folders\n",
        "\n",
        "subwise_fpath = \"/content/drive/MyDrive/Asquire_data/Vowel_Triangle_Data/Subwise_formants\"\n",
        "mkdir(subject_wise_fpath)\n",
        "\n",
        "for sub_id in subjects.keys():\n",
        "\n",
        "    sub_fpath = os.path.join(subject_wise_fpath, f\"subject_{sub_id}\")\n",
        "    mkdir(sub_fpath)\n",
        "\n",
        "    for fpath in subjects[sub_id]:\n",
        "        shutil.copy2(fpath, sub_fpath)"
      ],
      "execution_count": null,
      "outputs": []
    },
    {
      "cell_type": "code",
      "metadata": {
        "id": "jzh1sn0bKIxw"
      },
      "source": [
        "for sub_id in subjects.keys():\n",
        "    print(len(subjects[sub_id]))"
      ],
      "execution_count": null,
      "outputs": []
    },
    {
      "cell_type": "code",
      "metadata": {
        "id": "X7B2yH3UK_iX"
      },
      "source": [
        "# tests : subjects and their audio files\n",
        "root_fpath = \"/content/drive/MyDrive/Asquire_data/Vowel_Triangle_Data/Audio_n_Anotes\"\n",
        "\n",
        "subjects_audio = {}\n",
        "for path, subdirs, files in os.walk(root_fpath):\n",
        "    for name in files:\n",
        "     \n",
        "        if \".wav\" in name :\n",
        "            fpath = os.path.join(path, name)\n",
        "            sub_id = name.split(\"_\")[0]\n",
        "            if sub_id in subjects_audio.keys() :\n",
        "                subjects_audio[sub_id].append(fpath) \n",
        "            else :\n",
        "                subjects_audio[sub_id] = [fpath]   \n",
        "        \n",
        "\n",
        "print(subjects_audio.keys())"
      ],
      "execution_count": null,
      "outputs": []
    },
    {
      "cell_type": "code",
      "metadata": {
        "id": "3V26VrFWTxyf"
      },
      "source": [
        "subjects_audio['4012']"
      ],
      "execution_count": null,
      "outputs": []
    },
    {
      "cell_type": "code",
      "metadata": {
        "id": "vwZ4GHPoMFT1"
      },
      "source": [
        "# subject wise folders: put audio\n",
        "\n",
        "subwise_fpath = \"/content/drive/MyDrive/Asquire_data/Vowel_Triangle_Data/Subwise_formants\"\n",
        "mkdir(subject_wise_fpath)\n",
        "\n",
        "for sub_id in subjects_audio.keys():\n",
        "\n",
        "    sub_fpath = os.path.join(subject_wise_fpath, f\"subject_{sub_id}\")\n",
        "    mkdir(sub_fpath)\n",
        "\n",
        "    for fpath in subjects[sub_id]:\n",
        "        shutil.copy2(fpath, sub_fpath)\n",
        "\n",
        "\n",
        "\n",
        "        "
      ],
      "execution_count": null,
      "outputs": []
    },
    {
      "cell_type": "code",
      "metadata": {
        "id": "DHYIgfZJ9bG4"
      },
      "source": [
        ""
      ],
      "execution_count": null,
      "outputs": []
    },
    {
      "cell_type": "code",
      "metadata": {
        "id": "F7J8DbEn7hqW"
      },
      "source": [
        "# Vowtiar data _for j_data\n",
        "\n",
        "root_fpath = \"/content/drive/MyDrive/Asquire_data/Vowel_Triangle_Data/d\"\n",
        "\n",
        "formants_path = \"/content/drive/MyDrive/Asquire_data/Vowel_Triangle_Data/d/formants\"\n",
        "\n",
        "boundary_anotes = os.path.join(root_fpath, \"anotes\")"
      ],
      "execution_count": null,
      "outputs": []
    },
    {
      "cell_type": "code",
      "metadata": {
        "colab": {
          "base_uri": "https://localhost:8080/"
        },
        "id": "wHOD849_9g0a",
        "outputId": "54a93b57-4158-404f-bcfc-e5c3c053b1ad"
      },
      "source": [
        "formants_path = \"/content/drive/MyDrive/Asquire_data/Vowel_Triangle_Data/d/formants\"\n",
        "\n",
        "files = os.listdir(formants_path)\n",
        "\n",
        "print(files)\n",
        "\n",
        "for f in files :\n",
        "    fp = os.path.join(formants_path, f)\n",
        "\n",
        "    nw_con = \"\"\n",
        "    with open(fp, mode=\"r\") as f :\n",
        "        for l in f :\n",
        "            nwl = l.lstrip().rstrip().split(' ')\n",
        "            # print(nwl)\n",
        "            if len(nwl) > 1 :\n",
        "                ll = \"\\t\".join(nwl) + \"\\n\"\n",
        "                nw_con = nw_con + ll\n",
        "                # print(ll)\n",
        "        print(nw_con)\n",
        "\n",
        "    print(f)\n",
        "    with open(fp, mode=\"w\") as f :\n",
        "        f.write(nw_con)\n",
        "\n"
      ],
      "execution_count": null,
      "outputs": [
        {
          "output_type": "stream",
          "name": "stdout",
          "text": [
            "['j_aa.txt', 'j_ee.txt', 'j_oo.txt']\n",
            "686.6314862609181\t1286.0918452835567\n",
            "682.8803778294613\t1227.0701720099023\n",
            "693.7852996018986\t1249.5895620836288\n",
            "688.5331432798395\t1213.3367441339099\n",
            "691.7054236031261\t1219.6616320325431\n",
            "689.7974838497076\t1267.5675823665924\n",
            "\n",
            "<_io.TextIOWrapper name='/content/drive/MyDrive/Asquire_data/Vowel_Triangle_Data/d/formants/j_aa.txt' mode='r' encoding='UTF-8'>\n",
            "322.33863290056337\t2261.3207917933782\n",
            "331.24763973510807\t2188.7592056827925\n",
            "323.78996833668725\t2257.7405006715608\n",
            "337.77638501837777\t2261.054213206109\n",
            "319.09648965700296\t2235.639757681234\n",
            "\n",
            "<_io.TextIOWrapper name='/content/drive/MyDrive/Asquire_data/Vowel_Triangle_Data/d/formants/j_ee.txt' mode='r' encoding='UTF-8'>\n",
            "417.1992865324796\t969.2639977029412\n",
            "446.5756940823591\t890.9570341837065\n",
            "440.4660352702959\t874.7806404868427\n",
            "468.04711436927977\t837.0413012347294\n",
            "451.324309272583\t884.5704747325117\n",
            "\n",
            "<_io.TextIOWrapper name='/content/drive/MyDrive/Asquire_data/Vowel_Triangle_Data/d/formants/j_oo.txt' mode='r' encoding='UTF-8'>\n"
          ]
        }
      ]
    }
  ]
}