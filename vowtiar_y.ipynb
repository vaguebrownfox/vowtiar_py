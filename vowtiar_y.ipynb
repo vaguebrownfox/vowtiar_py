{
  "nbformat": 4,
  "nbformat_minor": 0,
  "metadata": {
    "colab": {
      "name": "vowtiar_y.ipynb",
      "provenance": [],
      "collapsed_sections": []
    },
    "kernelspec": {
      "name": "python3",
      "display_name": "Python 3"
    },
    "language_info": {
      "name": "python"
    }
  },
  "cells": [
    {
      "cell_type": "code",
      "metadata": {
        "colab": {
          "base_uri": "https://localhost:8080/"
        },
        "id": "p5bvnyzA7EdE",
        "outputId": "15f51653-dff2-4a10-89cc-97decc3646c2"
      },
      "source": [
        "from google.colab import drive\n",
        "drive.mount('/content/drive')"
      ],
      "execution_count": null,
      "outputs": [
        {
          "output_type": "stream",
          "name": "stdout",
          "text": [
            "Mounted at /content/drive\n"
          ]
        }
      ]
    },
    {
      "cell_type": "code",
      "metadata": {
        "id": "Qfymm_fP7Qcx"
      },
      "source": [
        "import os\n",
        "import shutil"
      ],
      "execution_count": null,
      "outputs": []
    },
    {
      "cell_type": "code",
      "metadata": {
        "id": "DLspcGEE7ko4",
        "colab": {
          "base_uri": "https://localhost:8080/"
        },
        "outputId": "3d1087cf-ceff-4542-c495-69bf218ea49f"
      },
      "source": [
        "# collect subjects and their files\n",
        "root_fpath = \"/content/drive/MyDrive/Asquire_data/Vowel_Triangle_Data/Formants/subject_wise\"\n",
        "\n",
        "subjects_formants = {}\n",
        "for path, subdirs, files in os.walk(root_fpath):\n",
        "    for name in files:\n",
        "        fpath = os.path.join(path, name)\n",
        "        \n",
        "        if (\"_formantSTRP_\" in name) :\n",
        "            sub_id = name.split(\"_\")[0]\n",
        "\n",
        "            if sub_id in subjects_formants.keys() :\n",
        "                subjects_formants[sub_id].append(fpath) \n",
        "            else :\n",
        "                subjects_formants[sub_id] = [fpath]   \n",
        "        \n",
        "\n",
        "print(len(subjects_formants.keys()))"
      ],
      "execution_count": null,
      "outputs": [
        {
          "output_type": "stream",
          "name": "stdout",
          "text": [
            "42\n"
          ]
        }
      ]
    },
    {
      "cell_type": "code",
      "metadata": {
        "id": "lBJ1pYun8g54",
        "colab": {
          "base_uri": "https://localhost:8080/",
          "height": 35
        },
        "outputId": "9afb2dec-3e68-4fda-cbe4-488fd1ce1790"
      },
      "source": [
        "len(subjects_formants[\"4012\"])\n",
        "subjects_formants[\"4012\"]\n",
        "os.path.basename(subjects_formants[\"4012\"][0])"
      ],
      "execution_count": null,
      "outputs": [
        {
          "output_type": "execute_result",
          "data": {
            "application/vnd.google.colaboratory.intrinsic+json": {
              "type": "string"
            },
            "text/plain": [
              "'4012_P_Asthma_F_after_Mil_Y_Eee_1_5_formantSTRP_.txt'"
            ]
          },
          "metadata": {},
          "execution_count": 4
        }
      ]
    },
    {
      "cell_type": "code",
      "metadata": {
        "id": "DjjoTK_98neo"
      },
      "source": [
        "import pandas as pd\n",
        "import numpy as np\n",
        "\n",
        "import re\n",
        "import difflib"
      ],
      "execution_count": null,
      "outputs": []
    },
    {
      "cell_type": "code",
      "metadata": {
        "colab": {
          "base_uri": "https://localhost:8080/"
        },
        "id": "M2PyiAoeBwJb",
        "outputId": "1c8d4e63-2802-422e-9bb5-7137be6806ab"
      },
      "source": [
        "# test : ignore\n",
        "\n",
        "d = difflib.ndiff(\"4012_P_Asthma_F_after_Mil_Y_Eee_1_5_formantSTRP_.txt\", \"4012_P_Asthma_F_after_Mil_Y_1_5_formantSTRP_.txt\" )\n",
        "list(d)\n",
        "\n",
        "d2 = [li[-1] for li in difflib.ndiff(\"4012_P_Asthma_F_after_Mil_Y_Eee_1_5_formantSTRP_.txt\", \"4012_P_Asthma_F_after_Mil_Y_1_5_formantSTRP_.txt\" ) if li[0] != ' ']\n",
        "\n",
        "print(\"\".join(d2))\n",
        "\n"
      ],
      "execution_count": null,
      "outputs": [
        {
          "output_type": "stream",
          "name": "stdout",
          "text": [
            "Eee_\n"
          ]
        }
      ]
    },
    {
      "cell_type": "code",
      "metadata": {
        "colab": {
          "base_uri": "https://localhost:8080/"
        },
        "id": "yGF-Xnvs11T5",
        "outputId": "7a6a452d-fcbe-4a95-d2e7-b2cddc616bc9"
      },
      "source": [
        "print(list(d))"
      ],
      "execution_count": null,
      "outputs": [
        {
          "output_type": "stream",
          "name": "stdout",
          "text": [
            "[]\n"
          ]
        }
      ]
    },
    {
      "cell_type": "code",
      "metadata": {
        "colab": {
          "base_uri": "https://localhost:8080/"
        },
        "id": "JbOk559B2Vuf",
        "outputId": "c5885ee6-1808-4611-cffc-b94a04953dcd"
      },
      "source": [
        "list(d)"
      ],
      "execution_count": null,
      "outputs": [
        {
          "output_type": "execute_result",
          "data": {
            "text/plain": [
              "[]"
            ]
          },
          "metadata": {},
          "execution_count": 19
        }
      ]
    },
    {
      "cell_type": "code",
      "metadata": {
        "colab": {
          "base_uri": "https://localhost:8080/"
        },
        "id": "r1qRTS4ZDj6a",
        "outputId": "2cc4d839-a4cd-4357-8fad-cf16e8da639b"
      },
      "source": [
        "# subject formants dataframes\n",
        "\n",
        "subjects_files = {}\n",
        "\n",
        "for sub in subjects_formants.keys() :\n",
        "    for f in subjects_formants[sub]:\n",
        "        fname = os.path.basename(f)\n",
        "        formants = pd.read_csv(\n",
        "            f, \n",
        "            sep=\"\\t\",\n",
        "            header=None, \n",
        "            usecols=[0, 1], \n",
        "            names=['f1', 'f2']\n",
        "            )\n",
        "       \n",
        "        fparts = re.split(r\"_Aaa_|_Eee_|_Uuu_\", fname)\n",
        "        fdiff = \"_\".join(fparts)\n",
        "        fp = fparts[0]\n",
        "\n",
        "        stim = \"\".join(\n",
        "            [li[-1] for li in difflib.ndiff(fname, fdiff ) if li[0] != ' ']\n",
        "            ).replace(\"_\", \"\")\n",
        "            \n",
        "        # print(fp, stim)\n",
        "\n",
        "        if fp in subjects_files.keys() :\n",
        "            subjects_files[fp][stim] = formants\n",
        "        else :\n",
        "            subjects_files[fp] = { f\"{stim}\": formants }\n",
        "\n",
        "    \n",
        "        \n",
        "subjects_files['4012_P_Asthma_F_after_Mil_Y']\n"
      ],
      "execution_count": null,
      "outputs": [
        {
          "output_type": "execute_result",
          "data": {
            "text/plain": [
              "{'Aaa':            f1           f2\n",
              " 0  596.946199  1212.857771\n",
              " 1  597.498348  1185.180812\n",
              " 2  595.564284  1189.049671\n",
              " 3  615.570593  1203.806335\n",
              " 4  613.069529  1161.182985, 'Eee':            f1           f2\n",
              " 0  289.064716  1898.272980\n",
              " 1  303.210946  2265.648813\n",
              " 2  297.840068  1899.105196\n",
              " 3  298.698386  1964.242427\n",
              " 4  301.001111  2042.841685, 'Uuu':            f1           f2\n",
              " 0  395.617824  1007.670413\n",
              " 1  433.196574  1218.794565\n",
              " 2  383.841782  1126.627251\n",
              " 3  412.119398  1081.021531\n",
              " 4  464.751361  1176.662222\n",
              " 5  409.970397  1117.964636}"
            ]
          },
          "metadata": {},
          "execution_count": 6
        }
      ]
    },
    {
      "cell_type": "code",
      "metadata": {
        "colab": {
          "base_uri": "https://localhost:8080/"
        },
        "id": "5H_fEUMAF3Hj",
        "outputId": "0d00aa06-cc95-451e-9d6f-85304c88d6c2"
      },
      "source": [
        "len(subjects_files.keys())"
      ],
      "execution_count": null,
      "outputs": [
        {
          "output_type": "execute_result",
          "data": {
            "text/plain": [
              "48"
            ]
          },
          "metadata": {},
          "execution_count": 10
        }
      ]
    },
    {
      "cell_type": "code",
      "metadata": {
        "id": "E6g9S7L3ZdsH"
      },
      "source": [
        ""
      ],
      "execution_count": null,
      "outputs": []
    },
    {
      "cell_type": "code",
      "metadata": {
        "id": "dgVBV-haJGbD",
        "colab": {
          "base_uri": "https://localhost:8080/"
        },
        "outputId": "a274bb76-227c-40a9-d476-063cc5c6bb02"
      },
      "source": [
        "# create data points\n",
        "\n",
        "a, e, u = [\"Aaa\", \"Eee\", \"Uuu\"]\n",
        "\n",
        "all_data_points = []\n",
        "for subf in subjects_files.keys() :\n",
        "    formants = subjects_files[subf]\n",
        "\n",
        "    # print(subf)\n",
        "\n",
        "    if a in formants.keys() :   \n",
        "        aaa_f1 = formants[a][\"f1\"].to_list()\n",
        "        aaa_f2 = formants[a][\"f2\"].to_list()\n",
        "    else :\n",
        "        aaa_f1 = []\n",
        "        aaa_f2 = []\n",
        "    \n",
        "    if a in formants.keys() : \n",
        "        eee_f1 = formants[e][\"f1\"].to_list()\n",
        "        eee_f2 = formants[e][\"f2\"].to_list()\n",
        "    else :\n",
        "        eee_f1 = []\n",
        "        eee_f2 = []\n",
        "    \n",
        "    if u in formants.keys() :\n",
        "        uuu_f1 = formants[u][\"f1\"].to_list()\n",
        "        uuu_f2 = formants[u][\"f2\"].to_list()\n",
        "    else :\n",
        "        uuu_f1 = []\n",
        "        uuu_f2 = []\n",
        "\n",
        "    min_len = np.min([len(aaa_f1), len(eee_f1), len(uuu_f1)])\n",
        "\n",
        "    \n",
        "    for i in range(min_len) :\n",
        "\n",
        "        sub_id = subf.split(\"_\")[0]\n",
        "\n",
        "        file_id = subf\n",
        "\n",
        "        a1 = (aaa_f1[i])\n",
        "        a2 = (aaa_f2[i])\n",
        "\n",
        "        e1 = (eee_f1[i])\n",
        "        e2 = (eee_f2[i])\n",
        "\n",
        "        u1 = (uuu_f1[i])\n",
        "        u2 = (uuu_f2[i])\n",
        "\n",
        "        tra = tiar(a1, a2, e1, e2, u1, u2)\n",
        "\n",
        "        all_data_points.append([sub_id, file_id, a1, a2, e1, e2, u1, u2, tra])\n",
        "\n",
        "for d in all_data_points[:5] :\n",
        "    print(d)\n"
      ],
      "execution_count": null,
      "outputs": [
        {
          "output_type": "stream",
          "name": "stdout",
          "text": [
            "['4012', '4012_P_Asthma_F_after_Mil_Y', 596.9461990768783, 1212.8577713677162, 289.06471637354144, 1898.2729797778256, 395.6178244721053, 1007.6704130383088, 100583.45897651892]\n",
            "['4012', '4012_P_Asthma_F_after_Mil_Y', 597.4983476456792, 1185.1808118501374, 303.2109457701268, 2265.648812517409, 433.1965736706916, 1218.794564958221, 83815.3525816884]\n",
            "['4012', '4012_P_Asthma_F_after_Mil_Y', 595.5642844630597, 1189.049671436368, 297.84006805210845, 1899.1051955187704, 383.84178241654763, 1126.6272505781658, 84459.69924357827]\n",
            "['4012', '4012_P_Asthma_F_after_Mil_Y', 615.5705933640184, 1203.8063347878979, 298.6983861828791, 1964.242426507841, 412.11939844516996, 1081.0215305917354, 96809.36171689158]\n",
            "['4012', '4012_P_Asthma_F_after_Mil_Y', 613.0695290845375, 1161.1829846317708, 301.00111078823323, 2042.84168493568, 464.7513611044697, 1176.6622215439825, 62967.7111165679]\n"
          ]
        }
      ]
    },
    {
      "cell_type": "code",
      "metadata": {
        "colab": {
          "base_uri": "https://localhost:8080/",
          "height": 1000
        },
        "id": "I1etyV10a0nn",
        "outputId": "6ad3fdae-1247-492a-a79b-766f50e9cdd6"
      },
      "source": [
        "for d in all_data_points :\n",
        "    subf, a1, a2, e1, e2, u1, u2, tra = d\n",
        "    fplot(a1, a2, e1, e2, u1, u2)\n",
        "plt.show()\n",
        "    \n",
        "for d in all_data_points :\n",
        "    subf, a1, a2, e1, e2, u1, u2, tra = d\n",
        "    fplotA(a1, a2, e1, e2, u1, u2)\n",
        "plt.show()\n",
        "\n",
        "for d in all_data_points :\n",
        "    subf, a1, a2, e1, e2, u1, u2, tra = d\n",
        "    fplotE(a1, a2, e1, e2, u1, u2)\n",
        "plt.show()\n",
        "    \n",
        "for d in all_data_points :\n",
        "    subf, a1, a2, e1, e2, u1, u2, tra = d\n",
        "    fplotU(a1, a2, e1, e2, u1, u2)\n",
        "plt.show()\n",
        "\n",
        "for d in all_data_points :\n",
        "    subf, a1, a2, e1, e2, u1, u2, tra = d\n",
        "\n",
        "    fplotA(a1, a2, e1, e2, u1, u2)\n",
        "    fplotE(a1, a2, e1, e2, u1, u2)\n",
        "    fplotU(a1, a2, e1, e2, u1, u2)\n",
        "\n",
        "        \n",
        "plt.show()\n"
      ],
      "execution_count": null,
      "outputs": [
        {
          "output_type": "display_data",
          "data": {
            "image/png": "[encoded data removed]",
            "text/plain": [
              "<Figure size 432x288 with 1 Axes>"
            ]
          },
          "metadata": {
            "needs_background": "light"
          }
        },
        {
          "output_type": "display_data",
          "data": {
            "image/png": "[encoded data removed]",
            "text/plain": [
              "<Figure size 432x288 with 1 Axes>"
            ]
          },
          "metadata": {
            "needs_background": "light"
          }
        },
        {
          "output_type": "display_data",
          "data": {
            "image/png": "[encoded data removed]",
            "text/plain": [
              "<Figure size 432x288 with 1 Axes>"
            ]
          },
          "metadata": {
            "needs_background": "light"
          }
        },
        {
          "output_type": "display_data",
          "data": {
            "image/png": "[encoded data removed]",
            "text/plain": [
              "<Figure size 432x288 with 1 Axes>"
            ]
          },
          "metadata": {
            "needs_background": "light"
          }
        },
        {
          "output_type": "display_data",
          "data": {
            "image/png": "[encoded data removed]",
            "text/plain": [
              "<Figure size 432x288 with 1 Axes>"
            ]
          },
          "metadata": {
            "needs_background": "light"
          }
        }
      ]
    },
    {
      "cell_type": "code",
      "metadata": {
        "id": "3DnRiVRJbbzy"
      },
      "source": [
        ""
      ],
      "execution_count": null,
      "outputs": []
    },
    {
      "cell_type": "code",
      "metadata": {
        "id": "Gz98bpySg9gS",
        "colab": {
          "base_uri": "https://localhost:8080/",
          "height": 441
        },
        "outputId": "00c809af-52ab-44e8-ac89-3a65b9d47874"
      },
      "source": [
        "print(\"files\", len(all_data_points))\n",
        "\n",
        "exp_path = \"/content/drive/MyDrive/Asquire_data/Vowel_Triangle_Data/tiar_data3.tsv\"\n",
        "\n",
        "tiar_data = pd.DataFrame(all_data_points, columns=[\"sub_id\", \"file_id\", \"fa1\", \"fa2\", \"fe1\", \"fe2\", \"fu1\", \"fu2\", \"tiar\"])\n",
        "tiar_data.to_csv(exp_path, sep=\"\\t\", index=False)\n",
        "tiar_data"
      ],
      "execution_count": null,
      "outputs": [
        {
          "output_type": "stream",
          "name": "stdout",
          "text": [
            "files 208\n"
          ]
        },
        {
          "output_type": "execute_result",
          "data": {
            "text/html": [
              "<div>\n",
              "<style scoped>\n",
              "    .dataframe tbody tr th:only-of-type {\n",
              "        vertical-align: middle;\n",
              "    }\n",
              "\n",
              "    .dataframe tbody tr th {\n",
              "        vertical-align: top;\n",
              "    }\n",
              "\n",
              "    .dataframe thead th {\n",
              "        text-align: right;\n",
              "    }\n",
              "</style>\n",
              "<table border=\"1\" class=\"dataframe\">\n",
              "  <thead>\n",
              "    <tr style=\"text-align: right;\">\n",
              "      <th></th>\n",
              "      <th>sub_id</th>\n",
              "      <th>file_id</th>\n",
              "      <th>fa1</th>\n",
              "      <th>fa2</th>\n",
              "      <th>fe1</th>\n",
              "      <th>fe2</th>\n",
              "      <th>fu1</th>\n",
              "      <th>fu2</th>\n",
              "      <th>tiar</th>\n",
              "    </tr>\n",
              "  </thead>\n",
              "  <tbody>\n",
              "    <tr>\n",
              "      <th>0</th>\n",
              "      <td>4012</td>\n",
              "      <td>4012_P_Asthma_F_after_Mil_Y</td>\n",
              "      <td>596.946199</td>\n",
              "      <td>1212.857771</td>\n",
              "      <td>289.064716</td>\n",
              "      <td>1898.272980</td>\n",
              "      <td>395.617824</td>\n",
              "      <td>1007.670413</td>\n",
              "      <td>100583.458977</td>\n",
              "    </tr>\n",
              "    <tr>\n",
              "      <th>1</th>\n",
              "      <td>4012</td>\n",
              "      <td>4012_P_Asthma_F_after_Mil_Y</td>\n",
              "      <td>597.498348</td>\n",
              "      <td>1185.180812</td>\n",
              "      <td>303.210946</td>\n",
              "      <td>2265.648813</td>\n",
              "      <td>433.196574</td>\n",
              "      <td>1218.794565</td>\n",
              "      <td>83815.352582</td>\n",
              "    </tr>\n",
              "    <tr>\n",
              "      <th>2</th>\n",
              "      <td>4012</td>\n",
              "      <td>4012_P_Asthma_F_after_Mil_Y</td>\n",
              "      <td>595.564284</td>\n",
              "      <td>1189.049671</td>\n",
              "      <td>297.840068</td>\n",
              "      <td>1899.105196</td>\n",
              "      <td>383.841782</td>\n",
              "      <td>1126.627251</td>\n",
              "      <td>84459.699244</td>\n",
              "    </tr>\n",
              "    <tr>\n",
              "      <th>3</th>\n",
              "      <td>4012</td>\n",
              "      <td>4012_P_Asthma_F_after_Mil_Y</td>\n",
              "      <td>615.570593</td>\n",
              "      <td>1203.806335</td>\n",
              "      <td>298.698386</td>\n",
              "      <td>1964.242427</td>\n",
              "      <td>412.119398</td>\n",
              "      <td>1081.021531</td>\n",
              "      <td>96809.361717</td>\n",
              "    </tr>\n",
              "    <tr>\n",
              "      <th>4</th>\n",
              "      <td>4012</td>\n",
              "      <td>4012_P_Asthma_F_after_Mil_Y</td>\n",
              "      <td>613.069529</td>\n",
              "      <td>1161.182985</td>\n",
              "      <td>301.001111</td>\n",
              "      <td>2042.841685</td>\n",
              "      <td>464.751361</td>\n",
              "      <td>1176.662222</td>\n",
              "      <td>62967.711117</td>\n",
              "    </tr>\n",
              "    <tr>\n",
              "      <th>...</th>\n",
              "      <td>...</td>\n",
              "      <td>...</td>\n",
              "      <td>...</td>\n",
              "      <td>...</td>\n",
              "      <td>...</td>\n",
              "      <td>...</td>\n",
              "      <td>...</td>\n",
              "      <td>...</td>\n",
              "      <td>...</td>\n",
              "    </tr>\n",
              "    <tr>\n",
              "      <th>203</th>\n",
              "      <td>4246</td>\n",
              "      <td>4246_P_Asthma_F_after_TBD_Y</td>\n",
              "      <td>589.443266</td>\n",
              "      <td>1083.699670</td>\n",
              "      <td>381.082900</td>\n",
              "      <td>2673.222959</td>\n",
              "      <td>466.345109</td>\n",
              "      <td>1064.341922</td>\n",
              "      <td>99850.387641</td>\n",
              "    </tr>\n",
              "    <tr>\n",
              "      <th>204</th>\n",
              "      <td>4246</td>\n",
              "      <td>4246_P_Asthma_F_after_TBD_Y</td>\n",
              "      <td>573.403766</td>\n",
              "      <td>1069.097793</td>\n",
              "      <td>375.018748</td>\n",
              "      <td>2660.230803</td>\n",
              "      <td>447.931213</td>\n",
              "      <td>1203.565142</td>\n",
              "      <td>86483.606323</td>\n",
              "    </tr>\n",
              "    <tr>\n",
              "      <th>205</th>\n",
              "      <td>4246</td>\n",
              "      <td>4246_P_Asthma_F_after_TBD_Y</td>\n",
              "      <td>526.599217</td>\n",
              "      <td>1259.612899</td>\n",
              "      <td>367.391935</td>\n",
              "      <td>2480.110491</td>\n",
              "      <td>460.147703</td>\n",
              "      <td>1097.668302</td>\n",
              "      <td>53443.335982</td>\n",
              "    </tr>\n",
              "    <tr>\n",
              "      <th>206</th>\n",
              "      <td>4246</td>\n",
              "      <td>4246_P_Asthma_F_after_TBD_Y</td>\n",
              "      <td>483.343740</td>\n",
              "      <td>1075.803451</td>\n",
              "      <td>365.634390</td>\n",
              "      <td>2437.303718</td>\n",
              "      <td>456.647985</td>\n",
              "      <td>1090.972943</td>\n",
              "      <td>17280.343479</td>\n",
              "    </tr>\n",
              "    <tr>\n",
              "      <th>207</th>\n",
              "      <td>4246</td>\n",
              "      <td>4246_P_Asthma_F_after_TBD_Y</td>\n",
              "      <td>456.262989</td>\n",
              "      <td>1094.252955</td>\n",
              "      <td>372.968250</td>\n",
              "      <td>2516.011128</td>\n",
              "      <td>457.986677</td>\n",
              "      <td>1095.574149</td>\n",
              "      <td>1280.357738</td>\n",
              "    </tr>\n",
              "  </tbody>\n",
              "</table>\n",
              "<p>208 rows × 9 columns</p>\n",
              "</div>"
            ],
            "text/plain": [
              "    sub_id                      file_id  ...          fu2           tiar\n",
              "0     4012  4012_P_Asthma_F_after_Mil_Y  ...  1007.670413  100583.458977\n",
              "1     4012  4012_P_Asthma_F_after_Mil_Y  ...  1218.794565   83815.352582\n",
              "2     4012  4012_P_Asthma_F_after_Mil_Y  ...  1126.627251   84459.699244\n",
              "3     4012  4012_P_Asthma_F_after_Mil_Y  ...  1081.021531   96809.361717\n",
              "4     4012  4012_P_Asthma_F_after_Mil_Y  ...  1176.662222   62967.711117\n",
              "..     ...                          ...  ...          ...            ...\n",
              "203   4246  4246_P_Asthma_F_after_TBD_Y  ...  1064.341922   99850.387641\n",
              "204   4246  4246_P_Asthma_F_after_TBD_Y  ...  1203.565142   86483.606323\n",
              "205   4246  4246_P_Asthma_F_after_TBD_Y  ...  1097.668302   53443.335982\n",
              "206   4246  4246_P_Asthma_F_after_TBD_Y  ...  1090.972943   17280.343479\n",
              "207   4246  4246_P_Asthma_F_after_TBD_Y  ...  1095.574149    1280.357738\n",
              "\n",
              "[208 rows x 9 columns]"
            ]
          },
          "metadata": {},
          "execution_count": 17
        }
      ]
    },
    {
      "cell_type": "markdown",
      "metadata": {
        "id": "XPFrGZGshCce"
      },
      "source": [
        "![formants_chart.png](data:image/png;base64,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)"
      ]
    },
    {
      "cell_type": "code",
      "metadata": {
        "colab": {
          "base_uri": "https://localhost:8080/",
          "height": 282
        },
        "id": "xICep_oQd0KM",
        "outputId": "381330e9-4844-4b09-ae12-145384111c39"
      },
      "source": [
        "fa1_mean = tiar_data[\"fa1\"].mean()\n",
        "fa2_mean = tiar_data[\"fa2\"].mean()\n",
        "fe1_mean = tiar_data[\"fe1\"].mean()\n",
        "fe2_mean = tiar_data[\"fe2\"].mean()\n",
        "fu1_mean = tiar_data[\"fu1\"].mean()\n",
        "fu2_mean = tiar_data[\"fu2\"].mean()\n",
        "\n",
        "\n",
        "fplotA(fa1_mean, fa2_mean, fe1_mean, fe2_mean, fu1_mean, fu2_mean)\n",
        "fplotE(fa1_mean, fa2_mean, fe1_mean, fe2_mean, fu1_mean, fu2_mean)\n",
        "fplotU(fa1_mean, fa2_mean, fe1_mean, fe2_mean, fu1_mean, fu2_mean)\n",
        "\n",
        "plt.legend(loc=\"lower left\")\n",
        "plt.show()\n",
        "\n",
        "\n",
        "f_mean = [fa1_mean, fa2_mean, fe1_mean, fe2_mean, fu1_mean, fu2_mean]\n",
        "\n",
        "# print(f_mean)\n",
        "\n",
        "print(\"mean tiar:\", tiar(fa1_mean, fa2_mean, fe1_mean, fe2_mean, fu1_mean, fu2_mean))\n"
      ],
      "execution_count": null,
      "outputs": [
        {
          "output_type": "display_data",
          "data": {
            "image/png": "[encoded data removed]",
            "text/plain": [
              "<Figure size 432x288 with 1 Axes>"
            ]
          },
          "metadata": {
            "needs_background": "light"
          }
        },
        {
          "output_type": "stream",
          "name": "stdout",
          "text": [
            "mean tiar: 88573.13659859385\n"
          ]
        }
      ]
    },
    {
      "cell_type": "markdown",
      "metadata": {
        "id": "mHGZp7REgl1-"
      },
      "source": [
        ""
      ]
    },
    {
      "cell_type": "code",
      "metadata": {
        "id": "ZmEiicZqfTuG"
      },
      "source": [
        ""
      ],
      "execution_count": null,
      "outputs": []
    },
    {
      "cell_type": "code",
      "metadata": {
        "id": "yz0XdMK7-xf4"
      },
      "source": [
        "# tests : strip white space in formants table\n",
        "root_fpath = \"/content/drive/MyDrive/Asquire_data/Vowel_Triangle_Data/Formants/subject_wise\"\n",
        "\n",
        "for path, subdirs, files in os.walk(root_fpath):\n",
        "    for name in files:\n",
        "\n",
        "        if (\"_formant_\" in name) :\n",
        "            fpath = os.path.join(path, name)\n",
        "            with open(fpath, mode=\"r\") as f :\n",
        "                lines = f.readlines()\n",
        "\n",
        "                nw_lines = [l.lstrip() for l in lines]\n",
        "                nw_lines = [\"\\t\".join(l.split(\" \")[:2]) + \"\\n\" for l in nw_lines if not l == '']\n",
        "\n",
        "                nw_fpath = fpath = os.path.join(path, name.replace(\"_formant_\", \"_formantSTRP_\"))\n",
        "                with open(nw_fpath, mode=\"w\") as nf :\n",
        "                    txt = \"\".join(nw_lines)\n",
        "                    nf.write(txt)\n",
        "\n",
        "                    print(txt)\n",
        "            "
      ],
      "execution_count": null,
      "outputs": []
    },
    {
      "cell_type": "code",
      "metadata": {
        "id": "Db_Jh7pb5Uwe"
      },
      "source": [
        "import numpy as np\n",
        "import matplotlib.pyplot as plt\n"
      ],
      "execution_count": null,
      "outputs": []
    },
    {
      "cell_type": "code",
      "metadata": {
        "id": "QAGtgsIL4vQJ"
      },
      "source": [
        "def tiar(fa1, fa2, fi1, fi2, fu1, fu2) :\n",
        "    d = np.linalg.det(\n",
        "        [[fa1, fa2, 1],\n",
        "         [fi1, fi2, 1],\n",
        "         [fu1, fu2, 1]]\n",
        "         )\n",
        "    return np.abs(d * 0.5)\n",
        "\n",
        "def fplot(fa1, fa2, fi1, fi2, fu1, fu2) :\n",
        "    y = np.array([fa1, fi1, fu1]) * -1\n",
        "    x = np.array([fa2, fi2, fu2]) * -1\n",
        "\n",
        "    plt.plot(x, y, 'bo')\n",
        "\n",
        "def fplotA(fa1, fa2, fi1, fi2, fu1, fu2) :\n",
        "    y = np.array([fa1 ]) * -1\n",
        "    x = np.array([fa2 ]) * -1\n",
        "    plt.plot(x, y, 'bo', color=\"blue\", label=\"Aaa\")\n",
        "\n",
        "def fplotE(fa1, fa2, fi1, fi2, fu1, fu2) :\n",
        "    y = np.array([ fi1 ]) * -1\n",
        "    x = np.array([ fi2 ]) * -1\n",
        "\n",
        "    plt.plot(x, y, 'bo', color=\"black\", label=\"Eee\")\n",
        "\n",
        "def fplotU(fa1, fa2, fi1, fi2, fu1, fu2) :\n",
        "    y = np.array([ fu1]) * -1\n",
        "    x = np.array([ fu2]) * -1\n",
        "\n",
        "    plt.plot(x, y, 'bo', color=\"red\", label=\"Uuu\")"
      ],
      "execution_count": null,
      "outputs": []
    },
    {
      "cell_type": "code",
      "metadata": {
        "colab": {
          "base_uri": "https://localhost:8080/"
        },
        "id": "Bw_ReATUBkna",
        "outputId": "26a99504-998a-4b89-cfcc-2a8ea9ef8760"
      },
      "source": [
        "import os\n",
        "import pandas as pd\n",
        "import numpy as np\n",
        "\n",
        "\n",
        "formants_path = \"/content/drive/MyDrive/Asquire_data/Vowel_Triangle_Data/d/formants\"\n",
        "files = os.listdir(formants_path)\n",
        "\n",
        "formantsd = {}\n",
        "for f in files :\n",
        "    fp = os.path.join(formants_path, f)\n",
        "    formants = pd.read_csv(\n",
        "                fp, \n",
        "                sep=\"\\t\",\n",
        "                header=None, \n",
        "                usecols=[0, 1], \n",
        "                names=['f1', 'f2']\n",
        "                )\n",
        "    formantsd[f] = formants\n",
        "    print(f)\n",
        "    print(formants)"
      ],
      "execution_count": null,
      "outputs": [
        {
          "output_type": "stream",
          "name": "stdout",
          "text": [
            "j_aa.txt\n",
            "           f1           f2\n",
            "0  686.631486  1286.091845\n",
            "1  682.880378  1227.070172\n",
            "2  693.785300  1249.589562\n",
            "3  688.533143  1213.336744\n",
            "4  691.705424  1219.661632\n",
            "5  689.797484  1267.567582\n",
            "j_ee.txt\n",
            "           f1           f2\n",
            "0  322.338633  2261.320792\n",
            "1  331.247640  2188.759206\n",
            "2  323.789968  2257.740501\n",
            "3  337.776385  2261.054213\n",
            "4  319.096490  2235.639758\n",
            "j_uu.txt\n",
            "           f1           f2\n",
            "0  376.899267   985.943403\n",
            "1  395.093396   966.735973\n",
            "2  405.785609  1096.980325\n",
            "3  442.006066  1087.629289\n",
            "4  417.468300   998.269615\n",
            "j_oo.txt\n",
            "           f1          f2\n",
            "0  417.199287  969.263998\n",
            "1  446.575694  890.957034\n",
            "2  440.466035  874.780640\n",
            "3  468.047114  837.041301\n",
            "4  451.324309  884.570475\n"
          ]
        }
      ]
    },
    {
      "cell_type": "code",
      "metadata": {
        "colab": {
          "base_uri": "https://localhost:8080/",
          "height": 310
        },
        "id": "clro_Z82LTO5",
        "outputId": "822b4917-a422-4f8d-94d1-b57cacb2ed71"
      },
      "source": [
        "aaa_f1 = formantsd[\"j_aa.txt\"][\"f1\"].to_list()\n",
        "aaa_f2 = formantsd[\"j_aa.txt\"][\"f2\"].to_list()\n",
        "\n",
        "eee_f1 = formantsd[\"j_ee.txt\"][\"f1\"].to_list()\n",
        "eee_f2 = formantsd[\"j_ee.txt\"][\"f2\"].to_list()\n",
        "\n",
        "uuu_f1 = formantsd[\"j_uu.txt\"][\"f1\"].to_list()\n",
        "uuu_f2 = formantsd[\"j_uu.txt\"][\"f2\"].to_list()\n",
        "\n",
        "min_len = np.min([len(aaa_f1), len(eee_f1), len(uuu_f1)])\n",
        "\n",
        "all_data_pointsj = []\n",
        "\n",
        "for i in range(min_len) :\n",
        "\n",
        "    sub_id = \"j777\"\n",
        "\n",
        "    file_id = f\"jjjj{i}\"\n",
        "\n",
        "    a1 = (aaa_f1[i])\n",
        "    a2 = (aaa_f2[i])\n",
        "\n",
        "    e1 = (eee_f1[i])\n",
        "    e2 = (eee_f2[i])\n",
        "\n",
        "    u1 = (uuu_f1[i])\n",
        "    u2 = (uuu_f2[i])\n",
        "\n",
        "    tra = tiar(a1, a2, e1, e2, u1, u2)\n",
        "\n",
        "    all_data_pointsj.append([sub_id, file_id, a1, a2, e1, e2, u1, u2, tra])\n",
        "\n",
        "for d in all_data_pointsj[:5] :\n",
        "    print(d)\n",
        "\n",
        "print(\"files\", len(all_data_pointsj))\n",
        "\n",
        "exp_path = \"/content/drive/MyDrive/Asquire_data/Vowel_Triangle_Data/tiar_jdata.tsv\"\n",
        "\n",
        "tiar_data = pd.DataFrame(all_data_pointsj, columns=[\"sub_id\", \"file_id\", \"fa1\", \"fa2\", \"fe1\", \"fe2\", \"fu1\", \"fu2\", \"tiar\"])\n",
        "tiar_data.to_csv(exp_path, sep=\"\\t\", index=False)\n",
        "tiar_data"
      ],
      "execution_count": null,
      "outputs": [
        {
          "output_type": "stream",
          "name": "stdout",
          "text": [
            "['j777', 'jjjj0', 686.6314862609181, 1286.0918452835567, 322.33863290056337, 2261.3207917933787, 376.8992665163217, 985.9434032649074, 205700.87936815523]\n",
            "['j777', 'jjjj1', 682.8803778294612, 1227.0701720099025, 331.24763973510807, 2188.7592056827925, 395.093396444324, 966.7359729091608, 184151.80564065222]\n",
            "['j777', 'jjjj2', 693.7852996018986, 1249.5895620836286, 323.78996833668725, 2257.7405006715608, 405.7856085729069, 1096.980325395592, 173405.9319532169]\n",
            "['j777', 'jjjj3', 688.5331432798395, 1213.33674413391, 337.77638501837777, 2261.054213206109, 442.00606622234596, 1087.6292889599817, 151191.73234927465]\n",
            "['j777', 'jjjj4', 691.7054236031261, 1219.6616320325431, 319.09648965700296, 2235.639757681234, 417.46830017513946, 998.269614585748, 180555.7811243432]\n",
            "files 5\n"
          ]
        },
        {
          "output_type": "execute_result",
          "data": {
            "text/html": [
              "<div>\n",
              "<style scoped>\n",
              "    .dataframe tbody tr th:only-of-type {\n",
              "        vertical-align: middle;\n",
              "    }\n",
              "\n",
              "    .dataframe tbody tr th {\n",
              "        vertical-align: top;\n",
              "    }\n",
              "\n",
              "    .dataframe thead th {\n",
              "        text-align: right;\n",
              "    }\n",
              "</style>\n",
              "<table border=\"1\" class=\"dataframe\">\n",
              "  <thead>\n",
              "    <tr style=\"text-align: right;\">\n",
              "      <th></th>\n",
              "      <th>sub_id</th>\n",
              "      <th>file_id</th>\n",
              "      <th>fa1</th>\n",
              "      <th>fa2</th>\n",
              "      <th>fe1</th>\n",
              "      <th>fe2</th>\n",
              "      <th>fu1</th>\n",
              "      <th>fu2</th>\n",
              "      <th>tiar</th>\n",
              "    </tr>\n",
              "  </thead>\n",
              "  <tbody>\n",
              "    <tr>\n",
              "      <th>0</th>\n",
              "      <td>j777</td>\n",
              "      <td>jjjj0</td>\n",
              "      <td>686.631486</td>\n",
              "      <td>1286.091845</td>\n",
              "      <td>322.338633</td>\n",
              "      <td>2261.320792</td>\n",
              "      <td>376.899267</td>\n",
              "      <td>985.943403</td>\n",
              "      <td>205700.879368</td>\n",
              "    </tr>\n",
              "    <tr>\n",
              "      <th>1</th>\n",
              "      <td>j777</td>\n",
              "      <td>jjjj1</td>\n",
              "      <td>682.880378</td>\n",
              "      <td>1227.070172</td>\n",
              "      <td>331.247640</td>\n",
              "      <td>2188.759206</td>\n",
              "      <td>395.093396</td>\n",
              "      <td>966.735973</td>\n",
              "      <td>184151.805641</td>\n",
              "    </tr>\n",
              "    <tr>\n",
              "      <th>2</th>\n",
              "      <td>j777</td>\n",
              "      <td>jjjj2</td>\n",
              "      <td>693.785300</td>\n",
              "      <td>1249.589562</td>\n",
              "      <td>323.789968</td>\n",
              "      <td>2257.740501</td>\n",
              "      <td>405.785609</td>\n",
              "      <td>1096.980325</td>\n",
              "      <td>173405.931953</td>\n",
              "    </tr>\n",
              "    <tr>\n",
              "      <th>3</th>\n",
              "      <td>j777</td>\n",
              "      <td>jjjj3</td>\n",
              "      <td>688.533143</td>\n",
              "      <td>1213.336744</td>\n",
              "      <td>337.776385</td>\n",
              "      <td>2261.054213</td>\n",
              "      <td>442.006066</td>\n",
              "      <td>1087.629289</td>\n",
              "      <td>151191.732349</td>\n",
              "    </tr>\n",
              "    <tr>\n",
              "      <th>4</th>\n",
              "      <td>j777</td>\n",
              "      <td>jjjj4</td>\n",
              "      <td>691.705424</td>\n",
              "      <td>1219.661632</td>\n",
              "      <td>319.096490</td>\n",
              "      <td>2235.639758</td>\n",
              "      <td>417.468300</td>\n",
              "      <td>998.269615</td>\n",
              "      <td>180555.781124</td>\n",
              "    </tr>\n",
              "  </tbody>\n",
              "</table>\n",
              "</div>"
            ],
            "text/plain": [
              "  sub_id file_id         fa1  ...         fu1          fu2           tiar\n",
              "0   j777   jjjj0  686.631486  ...  376.899267   985.943403  205700.879368\n",
              "1   j777   jjjj1  682.880378  ...  395.093396   966.735973  184151.805641\n",
              "2   j777   jjjj2  693.785300  ...  405.785609  1096.980325  173405.931953\n",
              "3   j777   jjjj3  688.533143  ...  442.006066  1087.629289  151191.732349\n",
              "4   j777   jjjj4  691.705424  ...  417.468300   998.269615  180555.781124\n",
              "\n",
              "[5 rows x 9 columns]"
            ]
          },
          "metadata": {},
          "execution_count": 22
        }
      ]
    },
    {
      "cell_type": "code",
      "metadata": {
        "colab": {
          "base_uri": "https://localhost:8080/"
        },
        "id": "7YVEt-DBwpFx",
        "outputId": "cf629115-6fe7-437c-bb8f-e674842229c0"
      },
      "source": [
        "formants_path = \"/content/drive/MyDrive/Asquire_data/Vowel_Triangle_Data/d/formants\"\n",
        "\n",
        "files = os.listdir(formants_path)\n",
        "\n",
        "print(files)\n",
        "\n",
        "for f in files :\n",
        "    fp = os.path.join(formants_path, f)\n",
        "\n",
        "    nw_con = \"\"\n",
        "    with open(fp, mode=\"r\") as f :\n",
        "        for l in f :\n",
        "            nwl = l.lstrip().rstrip().split(' ')\n",
        "            # print(nwl)\n",
        "            if len(nwl) > 1 :\n",
        "                ll = \"\\t\".join(nwl) + \"\\n\"\n",
        "                nw_con = nw_con + ll\n",
        "                # print(ll)\n",
        "        print(nw_con)\n",
        "\n",
        "    print(f)\n",
        "    with open(fp, mode=\"w\") as f :\n",
        "        f.write(nw_con)\n",
        "# "
      ],
      "execution_count": null,
      "outputs": [
        {
          "output_type": "stream",
          "name": "stdout",
          "text": [
            "['j_aa.txt', 'j_ee.txt', 'j_uu.txt', 'j_oo.txt']\n",
            "686.6314862609181\t1286.0918452835567\n",
            "682.8803778294613\t1227.0701720099023\n",
            "693.7852996018986\t1249.5895620836288\n",
            "688.5331432798395\t1213.3367441339099\n",
            "691.7054236031261\t1219.6616320325431\n",
            "689.7974838497076\t1267.5675823665924\n",
            "\n",
            "<_io.TextIOWrapper name='/content/drive/MyDrive/Asquire_data/Vowel_Triangle_Data/d/formants/j_aa.txt' mode='r' encoding='UTF-8'>\n",
            "322.33863290056337\t2261.3207917933782\n",
            "331.24763973510807\t2188.7592056827925\n",
            "323.78996833668725\t2257.7405006715608\n",
            "337.77638501837777\t2261.054213206109\n",
            "319.09648965700296\t2235.639757681234\n",
            "\n",
            "<_io.TextIOWrapper name='/content/drive/MyDrive/Asquire_data/Vowel_Triangle_Data/d/formants/j_ee.txt' mode='r' encoding='UTF-8'>\n",
            "376.8992665163217\t985.9434032649074\n",
            "395.09339644432396\t966.7359729091608\n",
            "405.7856085729069\t1096.980325395592\n",
            "442.006066222346\t1087.6292889599817\n",
            "417.4683001751395\t998.2696145857481\n",
            "\n",
            "<_io.TextIOWrapper name='/content/drive/MyDrive/Asquire_data/Vowel_Triangle_Data/d/formants/j_uu.txt' mode='r' encoding='UTF-8'>\n",
            "417.1992865324796\t969.2639977029412\n",
            "446.5756940823591\t890.9570341837065\n",
            "440.4660352702959\t874.7806404868427\n",
            "468.04711436927977\t837.0413012347294\n",
            "451.324309272583\t884.5704747325117\n",
            "\n",
            "<_io.TextIOWrapper name='/content/drive/MyDrive/Asquire_data/Vowel_Triangle_Data/d/formants/j_oo.txt' mode='r' encoding='UTF-8'>\n"
          ]
        }
      ]
    },
    {
      "cell_type": "code",
      "metadata": {
        "colab": {
          "base_uri": "https://localhost:8080/",
          "height": 352
        },
        "id": "sDFNwEmoA5R2",
        "outputId": "1cce4b6f-d78f-403e-c93a-9ada205c1d0a"
      },
      "source": [
        "for d in all_data_pointsj :\n",
        "    print(d)\n",
        "    subf, id, a1, a2, e1, e2, u1, u2, tra = d\n",
        "\n",
        "    fplotA(a1, a2, e1, e2, u1, u2)\n",
        "    fplotE(a1, a2, e1, e2, u1, u2)\n",
        "    fplotU(a1, a2, e1, e2, u1, u2)\n",
        "\n",
        "        \n",
        "plt.show()"
      ],
      "execution_count": null,
      "outputs": [
        {
          "output_type": "stream",
          "name": "stdout",
          "text": [
            "['j777', 'jjjj0', 686.6314862609181, 1286.0918452835567, 322.33863290056337, 2261.3207917933787, 376.8992665163217, 985.9434032649074, 205700.87936815523]\n",
            "['j777', 'jjjj1', 682.8803778294612, 1227.0701720099025, 331.24763973510807, 2188.7592056827925, 395.093396444324, 966.7359729091608, 184151.80564065222]\n",
            "['j777', 'jjjj2', 693.7852996018986, 1249.5895620836286, 323.78996833668725, 2257.7405006715608, 405.7856085729069, 1096.980325395592, 173405.9319532169]\n",
            "['j777', 'jjjj3', 688.5331432798395, 1213.33674413391, 337.77638501837777, 2261.054213206109, 442.00606622234596, 1087.6292889599817, 151191.73234927465]\n",
            "['j777', 'jjjj4', 691.7054236031261, 1219.6616320325431, 319.09648965700296, 2235.639757681234, 417.46830017513946, 998.269614585748, 180555.7811243432]\n"
          ]
        },
        {
          "output_type": "display_data",
          "data": {
            "image/png": "[encoded data removed]",
            "text/plain": [
              "<Figure size 432x288 with 1 Axes>"
            ]
          },
          "metadata": {
            "needs_background": "light"
          }
        }
      ]
    }
  ]
}